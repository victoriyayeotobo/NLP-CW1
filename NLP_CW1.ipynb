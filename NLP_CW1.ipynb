{
  "cells": [
    {
      "cell_type": "markdown",
      "metadata": {
        "id": "pWfZJLvNsnis"
      },
      "source": [
        "**Libraries**"
      ]
    },
    {
      "cell_type": "code",
      "execution_count": 12,
      "metadata": {
        "id": "44jQJL_2rQmf"
      },
      "outputs": [],
      "source": [
        "import pandas as pd\n",
        "import re\n",
        "import numpy as np\n",
        "import matplotlib.pyplot as plt\n",
        "import seaborn as sns\n",
        "from sklearn.feature_extraction.text import TfidfVectorizer\n",
        "from sklearn.model_selection import train_test_split\n",
        "from sklearn.utils.class_weight import compute_class_weight\n",
        "from imblearn.over_sampling import SMOTE\n",
        "from sklearn.linear_model import LogisticRegression\n",
        "from sklearn.naive_bayes import MultinomialNB\n",
        "from sklearn.svm import SVC\n",
        "from sklearn.ensemble import RandomForestClassifier\n",
        "from xgboost import XGBClassifier\n",
        "from sklearn.metrics import accuracy_score, precision_score, recall_score, f1_score, classification_report, confusion_matrix, roc_auc_score, roc_curve, precision_recall_curve"
      ]
    },
    {
      "cell_type": "markdown",
      "source": [
        "**Loading the Dataset**"
      ],
      "metadata": {
        "id": "Xg4ssv7S0wXP"
      }
    },
    {
      "cell_type": "code",
      "execution_count": 2,
      "metadata": {
        "colab": {
          "base_uri": "https://localhost:8080/",
          "height": 206
        },
        "id": "J2HkwbrKr9et",
        "outputId": "c55d9b38-c81b-4ebc-e957-4b02aadf6dc7"
      },
      "outputs": [
        {
          "output_type": "execute_result",
          "data": {
            "text/plain": [
              "      id                                              tweet subtask_a  \\\n",
              "0  86426  @USER She should ask a few native Americans wh...       OFF   \n",
              "1  90194  @USER @USER Go home youâ€™re drunk!!! @USER #M...       OFF   \n",
              "2  16820  Amazon is investigating Chinese employees who ...       NOT   \n",
              "3  62688  @USER Someone should'veTaken\" this piece of sh...       OFF   \n",
              "4  43605  @USER @USER Obama wanted liberals &amp; illega...       NOT   \n",
              "\n",
              "  subtask_b subtask_c  \n",
              "0       UNT       NaN  \n",
              "1       TIN       IND  \n",
              "2       NaN       NaN  \n",
              "3       UNT       NaN  \n",
              "4       NaN       NaN  "
            ],
            "text/html": [
              "\n",
              "  <div id=\"df-5b535f3b-4b76-4884-9c8d-36264f695d90\" class=\"colab-df-container\">\n",
              "    <div>\n",
              "<style scoped>\n",
              "    .dataframe tbody tr th:only-of-type {\n",
              "        vertical-align: middle;\n",
              "    }\n",
              "\n",
              "    .dataframe tbody tr th {\n",
              "        vertical-align: top;\n",
              "    }\n",
              "\n",
              "    .dataframe thead th {\n",
              "        text-align: right;\n",
              "    }\n",
              "</style>\n",
              "<table border=\"1\" class=\"dataframe\">\n",
              "  <thead>\n",
              "    <tr style=\"text-align: right;\">\n",
              "      <th></th>\n",
              "      <th>id</th>\n",
              "      <th>tweet</th>\n",
              "      <th>subtask_a</th>\n",
              "      <th>subtask_b</th>\n",
              "      <th>subtask_c</th>\n",
              "    </tr>\n",
              "  </thead>\n",
              "  <tbody>\n",
              "    <tr>\n",
              "      <th>0</th>\n",
              "      <td>86426</td>\n",
              "      <td>@USER She should ask a few native Americans wh...</td>\n",
              "      <td>OFF</td>\n",
              "      <td>UNT</td>\n",
              "      <td>NaN</td>\n",
              "    </tr>\n",
              "    <tr>\n",
              "      <th>1</th>\n",
              "      <td>90194</td>\n",
              "      <td>@USER @USER Go home youâ€™re drunk!!! @USER #M...</td>\n",
              "      <td>OFF</td>\n",
              "      <td>TIN</td>\n",
              "      <td>IND</td>\n",
              "    </tr>\n",
              "    <tr>\n",
              "      <th>2</th>\n",
              "      <td>16820</td>\n",
              "      <td>Amazon is investigating Chinese employees who ...</td>\n",
              "      <td>NOT</td>\n",
              "      <td>NaN</td>\n",
              "      <td>NaN</td>\n",
              "    </tr>\n",
              "    <tr>\n",
              "      <th>3</th>\n",
              "      <td>62688</td>\n",
              "      <td>@USER Someone should'veTaken\" this piece of sh...</td>\n",
              "      <td>OFF</td>\n",
              "      <td>UNT</td>\n",
              "      <td>NaN</td>\n",
              "    </tr>\n",
              "    <tr>\n",
              "      <th>4</th>\n",
              "      <td>43605</td>\n",
              "      <td>@USER @USER Obama wanted liberals &amp;amp; illega...</td>\n",
              "      <td>NOT</td>\n",
              "      <td>NaN</td>\n",
              "      <td>NaN</td>\n",
              "    </tr>\n",
              "  </tbody>\n",
              "</table>\n",
              "</div>\n",
              "    <div class=\"colab-df-buttons\">\n",
              "\n",
              "  <div class=\"colab-df-container\">\n",
              "    <button class=\"colab-df-convert\" onclick=\"convertToInteractive('df-5b535f3b-4b76-4884-9c8d-36264f695d90')\"\n",
              "            title=\"Convert this dataframe to an interactive table.\"\n",
              "            style=\"display:none;\">\n",
              "\n",
              "  <svg xmlns=\"http://www.w3.org/2000/svg\" height=\"24px\" viewBox=\"0 -960 960 960\">\n",
              "    <path d=\"M120-120v-720h720v720H120Zm60-500h600v-160H180v160Zm220 220h160v-160H400v160Zm0 220h160v-160H400v160ZM180-400h160v-160H180v160Zm440 0h160v-160H620v160ZM180-180h160v-160H180v160Zm440 0h160v-160H620v160Z\"/>\n",
              "  </svg>\n",
              "    </button>\n",
              "\n",
              "  <style>\n",
              "    .colab-df-container {\n",
              "      display:flex;\n",
              "      gap: 12px;\n",
              "    }\n",
              "\n",
              "    .colab-df-convert {\n",
              "      background-color: #E8F0FE;\n",
              "      border: none;\n",
              "      border-radius: 50%;\n",
              "      cursor: pointer;\n",
              "      display: none;\n",
              "      fill: #1967D2;\n",
              "      height: 32px;\n",
              "      padding: 0 0 0 0;\n",
              "      width: 32px;\n",
              "    }\n",
              "\n",
              "    .colab-df-convert:hover {\n",
              "      background-color: #E2EBFA;\n",
              "      box-shadow: 0px 1px 2px rgba(60, 64, 67, 0.3), 0px 1px 3px 1px rgba(60, 64, 67, 0.15);\n",
              "      fill: #174EA6;\n",
              "    }\n",
              "\n",
              "    .colab-df-buttons div {\n",
              "      margin-bottom: 4px;\n",
              "    }\n",
              "\n",
              "    [theme=dark] .colab-df-convert {\n",
              "      background-color: #3B4455;\n",
              "      fill: #D2E3FC;\n",
              "    }\n",
              "\n",
              "    [theme=dark] .colab-df-convert:hover {\n",
              "      background-color: #434B5C;\n",
              "      box-shadow: 0px 1px 3px 1px rgba(0, 0, 0, 0.15);\n",
              "      filter: drop-shadow(0px 1px 2px rgba(0, 0, 0, 0.3));\n",
              "      fill: #FFFFFF;\n",
              "    }\n",
              "  </style>\n",
              "\n",
              "    <script>\n",
              "      const buttonEl =\n",
              "        document.querySelector('#df-5b535f3b-4b76-4884-9c8d-36264f695d90 button.colab-df-convert');\n",
              "      buttonEl.style.display =\n",
              "        google.colab.kernel.accessAllowed ? 'block' : 'none';\n",
              "\n",
              "      async function convertToInteractive(key) {\n",
              "        const element = document.querySelector('#df-5b535f3b-4b76-4884-9c8d-36264f695d90');\n",
              "        const dataTable =\n",
              "          await google.colab.kernel.invokeFunction('convertToInteractive',\n",
              "                                                    [key], {});\n",
              "        if (!dataTable) return;\n",
              "\n",
              "        const docLinkHtml = 'Like what you see? Visit the ' +\n",
              "          '<a target=\"_blank\" href=https://colab.research.google.com/notebooks/data_table.ipynb>data table notebook</a>'\n",
              "          + ' to learn more about interactive tables.';\n",
              "        element.innerHTML = '';\n",
              "        dataTable['output_type'] = 'display_data';\n",
              "        await google.colab.output.renderOutput(dataTable, element);\n",
              "        const docLink = document.createElement('div');\n",
              "        docLink.innerHTML = docLinkHtml;\n",
              "        element.appendChild(docLink);\n",
              "      }\n",
              "    </script>\n",
              "  </div>\n",
              "\n",
              "\n",
              "<div id=\"df-9dd92996-13e2-4dc1-9bd6-b98d784104e4\">\n",
              "  <button class=\"colab-df-quickchart\" onclick=\"quickchart('df-9dd92996-13e2-4dc1-9bd6-b98d784104e4')\"\n",
              "            title=\"Suggest charts\"\n",
              "            style=\"display:none;\">\n",
              "\n",
              "<svg xmlns=\"http://www.w3.org/2000/svg\" height=\"24px\"viewBox=\"0 0 24 24\"\n",
              "     width=\"24px\">\n",
              "    <g>\n",
              "        <path d=\"M19 3H5c-1.1 0-2 .9-2 2v14c0 1.1.9 2 2 2h14c1.1 0 2-.9 2-2V5c0-1.1-.9-2-2-2zM9 17H7v-7h2v7zm4 0h-2V7h2v10zm4 0h-2v-4h2v4z\"/>\n",
              "    </g>\n",
              "</svg>\n",
              "  </button>\n",
              "\n",
              "<style>\n",
              "  .colab-df-quickchart {\n",
              "      --bg-color: #E8F0FE;\n",
              "      --fill-color: #1967D2;\n",
              "      --hover-bg-color: #E2EBFA;\n",
              "      --hover-fill-color: #174EA6;\n",
              "      --disabled-fill-color: #AAA;\n",
              "      --disabled-bg-color: #DDD;\n",
              "  }\n",
              "\n",
              "  [theme=dark] .colab-df-quickchart {\n",
              "      --bg-color: #3B4455;\n",
              "      --fill-color: #D2E3FC;\n",
              "      --hover-bg-color: #434B5C;\n",
              "      --hover-fill-color: #FFFFFF;\n",
              "      --disabled-bg-color: #3B4455;\n",
              "      --disabled-fill-color: #666;\n",
              "  }\n",
              "\n",
              "  .colab-df-quickchart {\n",
              "    background-color: var(--bg-color);\n",
              "    border: none;\n",
              "    border-radius: 50%;\n",
              "    cursor: pointer;\n",
              "    display: none;\n",
              "    fill: var(--fill-color);\n",
              "    height: 32px;\n",
              "    padding: 0;\n",
              "    width: 32px;\n",
              "  }\n",
              "\n",
              "  .colab-df-quickchart:hover {\n",
              "    background-color: var(--hover-bg-color);\n",
              "    box-shadow: 0 1px 2px rgba(60, 64, 67, 0.3), 0 1px 3px 1px rgba(60, 64, 67, 0.15);\n",
              "    fill: var(--button-hover-fill-color);\n",
              "  }\n",
              "\n",
              "  .colab-df-quickchart-complete:disabled,\n",
              "  .colab-df-quickchart-complete:disabled:hover {\n",
              "    background-color: var(--disabled-bg-color);\n",
              "    fill: var(--disabled-fill-color);\n",
              "    box-shadow: none;\n",
              "  }\n",
              "\n",
              "  .colab-df-spinner {\n",
              "    border: 2px solid var(--fill-color);\n",
              "    border-color: transparent;\n",
              "    border-bottom-color: var(--fill-color);\n",
              "    animation:\n",
              "      spin 1s steps(1) infinite;\n",
              "  }\n",
              "\n",
              "  @keyframes spin {\n",
              "    0% {\n",
              "      border-color: transparent;\n",
              "      border-bottom-color: var(--fill-color);\n",
              "      border-left-color: var(--fill-color);\n",
              "    }\n",
              "    20% {\n",
              "      border-color: transparent;\n",
              "      border-left-color: var(--fill-color);\n",
              "      border-top-color: var(--fill-color);\n",
              "    }\n",
              "    30% {\n",
              "      border-color: transparent;\n",
              "      border-left-color: var(--fill-color);\n",
              "      border-top-color: var(--fill-color);\n",
              "      border-right-color: var(--fill-color);\n",
              "    }\n",
              "    40% {\n",
              "      border-color: transparent;\n",
              "      border-right-color: var(--fill-color);\n",
              "      border-top-color: var(--fill-color);\n",
              "    }\n",
              "    60% {\n",
              "      border-color: transparent;\n",
              "      border-right-color: var(--fill-color);\n",
              "    }\n",
              "    80% {\n",
              "      border-color: transparent;\n",
              "      border-right-color: var(--fill-color);\n",
              "      border-bottom-color: var(--fill-color);\n",
              "    }\n",
              "    90% {\n",
              "      border-color: transparent;\n",
              "      border-bottom-color: var(--fill-color);\n",
              "    }\n",
              "  }\n",
              "</style>\n",
              "\n",
              "  <script>\n",
              "    async function quickchart(key) {\n",
              "      const quickchartButtonEl =\n",
              "        document.querySelector('#' + key + ' button');\n",
              "      quickchartButtonEl.disabled = true;  // To prevent multiple clicks.\n",
              "      quickchartButtonEl.classList.add('colab-df-spinner');\n",
              "      try {\n",
              "        const charts = await google.colab.kernel.invokeFunction(\n",
              "            'suggestCharts', [key], {});\n",
              "      } catch (error) {\n",
              "        console.error('Error during call to suggestCharts:', error);\n",
              "      }\n",
              "      quickchartButtonEl.classList.remove('colab-df-spinner');\n",
              "      quickchartButtonEl.classList.add('colab-df-quickchart-complete');\n",
              "    }\n",
              "    (() => {\n",
              "      let quickchartButtonEl =\n",
              "        document.querySelector('#df-9dd92996-13e2-4dc1-9bd6-b98d784104e4 button');\n",
              "      quickchartButtonEl.style.display =\n",
              "        google.colab.kernel.accessAllowed ? 'block' : 'none';\n",
              "    })();\n",
              "  </script>\n",
              "</div>\n",
              "\n",
              "    </div>\n",
              "  </div>\n"
            ],
            "application/vnd.google.colaboratory.intrinsic+json": {
              "type": "dataframe",
              "variable_name": "df",
              "summary": "{\n  \"name\": \"df\",\n  \"rows\": 13240,\n  \"fields\": [\n    {\n      \"column\": \"id\",\n      \"properties\": {\n        \"dtype\": \"number\",\n        \"std\": 26092,\n        \"min\": 10006,\n        \"max\": 99986,\n        \"num_unique_values\": 13240,\n        \"samples\": [\n          27650,\n          52965,\n          87438\n        ],\n        \"semantic_type\": \"\",\n        \"description\": \"\"\n      }\n    },\n    {\n      \"column\": \"tweet\",\n      \"properties\": {\n        \"dtype\": \"string\",\n        \"num_unique_values\": 13065,\n        \"samples\": [\n          \"@USER @USER leader of Antifa\",\n          \"@USER You are such a generous gal! Bringing STEAM and spending your time to give to others. Thank you for everything you do help this planet! \\u00e2\\u009d\\u00a4\\u00ef\\u00b8\\u008f\\u00f0\\u0178\\u0161\\u20ac\",\n          \"@USER @USER So conservatives freak out about coffee cups people kneeling for social injustice Nike shoes Etc I think it's the conservative that needs safe spaces\"\n        ],\n        \"semantic_type\": \"\",\n        \"description\": \"\"\n      }\n    },\n    {\n      \"column\": \"subtask_a\",\n      \"properties\": {\n        \"dtype\": \"category\",\n        \"num_unique_values\": 2,\n        \"samples\": [\n          \"NOT\",\n          \"OFF\"\n        ],\n        \"semantic_type\": \"\",\n        \"description\": \"\"\n      }\n    },\n    {\n      \"column\": \"subtask_b\",\n      \"properties\": {\n        \"dtype\": \"category\",\n        \"num_unique_values\": 2,\n        \"samples\": [\n          \"TIN\",\n          \"UNT\"\n        ],\n        \"semantic_type\": \"\",\n        \"description\": \"\"\n      }\n    },\n    {\n      \"column\": \"subtask_c\",\n      \"properties\": {\n        \"dtype\": \"category\",\n        \"num_unique_values\": 3,\n        \"samples\": [\n          \"IND\",\n          \"OTH\"\n        ],\n        \"semantic_type\": \"\",\n        \"description\": \"\"\n      }\n    }\n  ]\n}"
            }
          },
          "metadata": {},
          "execution_count": 2
        }
      ],
      "source": [
        "file_path = \"/content/olid-training-v1.0.xlsx\"\n",
        "df = pd.read_excel(file_path)\n",
        "df.head()"
      ]
    },
    {
      "cell_type": "markdown",
      "source": [
        "**Exploratory Data Analysis (EDA)**"
      ],
      "metadata": {
        "id": "Pd5e-dU91KRz"
      }
    },
    {
      "cell_type": "code",
      "execution_count": 3,
      "metadata": {
        "colab": {
          "base_uri": "https://localhost:8080/",
          "height": 750
        },
        "id": "M5pehJeV1AWm",
        "outputId": "a8d73a7b-360c-4e6a-eb2d-8ef9898ef82e"
      },
      "outputs": [
        {
          "output_type": "stream",
          "name": "stdout",
          "text": [
            "\n",
            "Missing Values in Each Column:\n",
            "id              0\n",
            "tweet           6\n",
            "subtask_a       0\n",
            "subtask_b    8840\n",
            "subtask_c    9364\n",
            "dtype: int64\n",
            "\n",
            "Dropped 6 rows due to missing tweets.\n"
          ]
        },
        {
          "output_type": "display_data",
          "data": {
            "text/plain": [
              "<Figure size 640x480 with 1 Axes>"
            ],
            "image/png": "[encoded data removed]"
          },
          "metadata": {}
        },
        {
          "output_type": "stream",
          "name": "stdout",
          "text": [
            "\n",
            "Label Distribution:\n",
            "subtask_a\n",
            "NOT    8834\n",
            "OFF    4400\n",
            "Name: count, dtype: int64\n"
          ]
        }
      ],
      "source": [
        "def missing_values(df):\n",
        "    print(\"\\nMissing Values in Each Column:\")\n",
        "    print(df.isnull().sum())\n",
        "\n",
        "missing_values(df)\n",
        "\n",
        "# Counting rows before dropping missing tweets\n",
        "initial_rows = df.shape[0]\n",
        "df = df.dropna(subset=['tweet'])\n",
        "final_rows = df.shape[0]\n",
        "print(f\"\\nDropped {initial_rows - final_rows} rows due to missing tweets.\")\n",
        "\n",
        "# Checking Class Distribution Before Balancing\n",
        "sns.countplot(x=df['subtask_a'])\n",
        "plt.title(\"Class Distribution Before Balancing\")\n",
        "plt.show()\n",
        "print(\"\\nLabel Distribution:\")\n",
        "print(df['subtask_a'].value_counts())"
      ]
    },
    {
      "cell_type": "markdown",
      "source": [
        "**Data Preprocessing**"
      ],
      "metadata": {
        "id": "6pSPScy92CK5"
      }
    },
    {
      "cell_type": "code",
      "execution_count": 5,
      "metadata": {
        "colab": {
          "base_uri": "https://localhost:8080/"
        },
        "id": "T96OLvsc5Ix7",
        "outputId": "651b03f3-cca9-47c8-9822-08c8afc88bca"
      },
      "outputs": [
        {
          "output_type": "stream",
          "name": "stdout",
          "text": [
            "                                               tweet  \\\n",
            "0  @USER She should ask a few native Americans wh...   \n",
            "1  @USER @USER Go home youâ€™re drunk!!! @USER #M...   \n",
            "2  Amazon is investigating Chinese employees who ...   \n",
            "3  @USER Someone should'veTaken\" this piece of sh...   \n",
            "4  @USER @USER Obama wanted liberals &amp; illega...   \n",
            "\n",
            "                                         clean_tweet  \n",
            "0  she should ask a few native americans what the...  \n",
            "1                 go home youre drunk maga trump url  \n",
            "2  amazon is investigating chinese employees who ...  \n",
            "3  someone shouldvetaken this piece of shit to a ...  \n",
            "4  obama wanted liberals amp illegals to move int...  \n"
          ]
        }
      ],
      "source": [
        "def clean_text(text):\n",
        "    text = text.lower()\n",
        "    text = re.sub(r'http\\S+', '', text)\n",
        "    text = re.sub(r'@\\w+', '', text)\n",
        "    text = re.sub(r'[^a-zA-Z\\s]', '', text)\n",
        "    text = re.sub(r'\\s+', ' ', text).strip()\n",
        "    return text\n",
        "\n",
        "df['clean_tweet'] = df['tweet'].apply(clean_text)\n",
        "print(df[['tweet', 'clean_tweet']].head())"
      ]
    },
    {
      "cell_type": "markdown",
      "source": [
        "**Label Encoding**"
      ],
      "metadata": {
        "id": "6hSxx7G62obT"
      }
    },
    {
      "cell_type": "code",
      "execution_count": 6,
      "metadata": {
        "id": "RvOWiQMB6AUY"
      },
      "outputs": [],
      "source": [
        "df['label'] = df['subtask_a'].map({'OFF': 1, 'NOT': 0})"
      ]
    },
    {
      "cell_type": "markdown",
      "source": [
        "**Handling Class Imbalance**"
      ],
      "metadata": {
        "id": "Iopa_a0y2zaZ"
      }
    },
    {
      "cell_type": "code",
      "execution_count": 8,
      "metadata": {
        "id": "Oy4YJkEhzRhl"
      },
      "outputs": [],
      "source": [
        "X = TfidfVectorizer(max_features=5000).fit_transform(df['clean_tweet'])\n",
        "y = df['label']\n",
        "X_train, X_test, y_train, y_test = train_test_split(X, y, test_size=0.2, random_state=42, stratify=y)\n",
        "\n",
        "# Class Weighting\n",
        "class_weights = compute_class_weight(class_weight=\"balanced\", classes=np.unique(y_train), y=y_train)\n",
        "class_weight_dict = {0: class_weights[0], 1: class_weights[1]}\n",
        "\n",
        "# SMOTE Oversampling\n",
        "smote = SMOTE(sampling_strategy='auto', random_state=42)\n",
        "X_train_smote, y_train_smote = smote.fit_resample(X_train, y_train)\n"
      ]
    },
    {
      "cell_type": "markdown",
      "source": [
        "**Model Training & Evaluation**"
      ],
      "metadata": {
        "id": "5Mw7kkCc3GAx"
      }
    },
    {
      "cell_type": "code",
      "execution_count": 15,
      "metadata": {
        "colab": {
          "base_uri": "https://localhost:8080/"
        },
        "id": "94dYUmTS1grv",
        "outputId": "87c4c8ee-c8b0-4e13-cc14-3e4db410f017"
      },
      "outputs": [
        {
          "output_type": "stream",
          "name": "stdout",
          "text": [
            "\n",
            "Evaluating Models (No Balancing)...\n",
            "\n",
            "Logistic Regression (No Balancing)\n",
            "Accuracy: 0.7575\n",
            "              precision    recall  f1-score   support\n",
            "\n",
            "           0       0.75      0.95      0.84      1767\n",
            "           1       0.79      0.37      0.50       880\n",
            "\n",
            "    accuracy                           0.76      2647\n",
            "   macro avg       0.77      0.66      0.67      2647\n",
            "weighted avg       0.76      0.76      0.73      2647\n",
            "\n",
            "\n",
            "Naïve Bayes (No Balancing)\n",
            "Accuracy: 0.7291\n",
            "              precision    recall  f1-score   support\n",
            "\n",
            "           0       0.72      0.97      0.83      1767\n",
            "           1       0.82      0.24      0.37       880\n",
            "\n",
            "    accuracy                           0.73      2647\n",
            "   macro avg       0.77      0.61      0.60      2647\n",
            "weighted avg       0.75      0.73      0.68      2647\n",
            "\n",
            "\n",
            "Support Vector Machine (No Balancing)\n",
            "Accuracy: 0.7567\n",
            "              precision    recall  f1-score   support\n",
            "\n",
            "           0       0.75      0.97      0.84      1767\n",
            "           1       0.83      0.34      0.48       880\n",
            "\n",
            "    accuracy                           0.76      2647\n",
            "   macro avg       0.79      0.65      0.66      2647\n",
            "weighted avg       0.77      0.76      0.72      2647\n",
            "\n",
            "\n",
            "Random Forest (No Balancing)\n",
            "Accuracy: 0.7605\n",
            "              precision    recall  f1-score   support\n",
            "\n",
            "           0       0.75      0.96      0.84      1767\n",
            "           1       0.83      0.35      0.49       880\n",
            "\n",
            "    accuracy                           0.76      2647\n",
            "   macro avg       0.79      0.66      0.67      2647\n",
            "weighted avg       0.78      0.76      0.73      2647\n",
            "\n",
            "\n",
            "XGBoost (No Balancing)\n",
            "Accuracy: 0.7733\n",
            "              precision    recall  f1-score   support\n",
            "\n",
            "           0       0.77      0.94      0.85      1767\n",
            "           1       0.79      0.43      0.56       880\n",
            "\n",
            "    accuracy                           0.77      2647\n",
            "   macro avg       0.78      0.69      0.70      2647\n",
            "weighted avg       0.78      0.77      0.75      2647\n",
            "\n",
            "\n",
            "Evaluating Models (SMOTE)...\n",
            "\n",
            "Logistic Regression (SMOTE)\n",
            "Accuracy: 0.6959\n",
            "              precision    recall  f1-score   support\n",
            "\n",
            "           0       0.79      0.75      0.77      1767\n",
            "           1       0.54      0.59      0.56       880\n",
            "\n",
            "    accuracy                           0.70      2647\n",
            "   macro avg       0.66      0.67      0.66      2647\n",
            "weighted avg       0.70      0.70      0.70      2647\n",
            "\n",
            "\n",
            "Naïve Bayes (SMOTE)\n",
            "Accuracy: 0.7246\n",
            "              precision    recall  f1-score   support\n",
            "\n",
            "           0       0.82      0.76      0.79      1767\n",
            "           1       0.58      0.65      0.61       880\n",
            "\n",
            "    accuracy                           0.72      2647\n",
            "   macro avg       0.70      0.71      0.70      2647\n",
            "weighted avg       0.74      0.72      0.73      2647\n",
            "\n",
            "\n",
            "Support Vector Machine (SMOTE)\n",
            "Accuracy: 0.7473\n",
            "              precision    recall  f1-score   support\n",
            "\n",
            "           0       0.75      0.93      0.83      1767\n",
            "           1       0.74      0.37      0.50       880\n",
            "\n",
            "    accuracy                           0.75      2647\n",
            "   macro avg       0.74      0.65      0.66      2647\n",
            "weighted avg       0.75      0.75      0.72      2647\n",
            "\n",
            "\n",
            "Random Forest (SMOTE)\n",
            "Accuracy: 0.7329\n",
            "              precision    recall  f1-score   support\n",
            "\n",
            "           0       0.74      0.92      0.82      1767\n",
            "           1       0.68      0.37      0.48       880\n",
            "\n",
            "    accuracy                           0.73      2647\n",
            "   macro avg       0.71      0.64      0.65      2647\n",
            "weighted avg       0.72      0.73      0.71      2647\n",
            "\n",
            "\n",
            "XGBoost (SMOTE)\n",
            "Accuracy: 0.7552\n",
            "              precision    recall  f1-score   support\n",
            "\n",
            "           0       0.77      0.90      0.83      1767\n",
            "           1       0.69      0.47      0.56       880\n",
            "\n",
            "    accuracy                           0.76      2647\n",
            "   macro avg       0.73      0.68      0.70      2647\n",
            "weighted avg       0.75      0.76      0.74      2647\n",
            "\n",
            "\n",
            "Evaluating Models with Class Weighting...\n",
            "\n",
            "Logistic Regression (Class Weighting)\n",
            "Accuracy: 0.7435\n",
            "              precision    recall  f1-score   support\n",
            "\n",
            "           0       0.81      0.80      0.81      1767\n",
            "           1       0.61      0.63      0.62       880\n",
            "\n",
            "    accuracy                           0.74      2647\n",
            "   macro avg       0.71      0.71      0.71      2647\n",
            "weighted avg       0.75      0.74      0.74      2647\n",
            "\n",
            "\n",
            "Support Vector Machine (Class Weighting)\n",
            "Accuracy: 0.7567\n",
            "              precision    recall  f1-score   support\n",
            "\n",
            "           0       0.79      0.87      0.83      1767\n",
            "           1       0.67      0.54      0.59       880\n",
            "\n",
            "    accuracy                           0.76      2647\n",
            "   macro avg       0.73      0.70      0.71      2647\n",
            "weighted avg       0.75      0.76      0.75      2647\n",
            "\n",
            "\n",
            "Random Forest (Class Weighting)\n",
            "Accuracy: 0.7601\n",
            "              precision    recall  f1-score   support\n",
            "\n",
            "           0       0.75      0.96      0.84      1767\n",
            "           1       0.83      0.35      0.49       880\n",
            "\n",
            "    accuracy                           0.76      2647\n",
            "   macro avg       0.79      0.66      0.67      2647\n",
            "weighted avg       0.78      0.76      0.73      2647\n",
            "\n",
            "\n",
            "XGBoost (Class Weighting)\n",
            "Accuracy: 0.7435\n",
            "              precision    recall  f1-score   support\n",
            "\n",
            "           0       0.79      0.83      0.81      1767\n",
            "           1       0.63      0.56      0.59       880\n",
            "\n",
            "    accuracy                           0.74      2647\n",
            "   macro avg       0.71      0.70      0.70      2647\n",
            "weighted avg       0.74      0.74      0.74      2647\n",
            "\n"
          ]
        }
      ],
      "source": [
        "models = {\n",
        "    \"Logistic Regression\": LogisticRegression(),\n",
        "    \"Naïve Bayes\": MultinomialNB(),\n",
        "    \"Support Vector Machine\": SVC(probability=True),\n",
        "    \"Random Forest\": RandomForestClassifier(),\n",
        "    \"XGBoost\": XGBClassifier()\n",
        "}\n",
        "\n",
        "# Function to train and evaluate models\n",
        "def train_evaluate(models, X_train, y_train, X_test, y_test, balancing_method):\n",
        "    print(f\"\\nEvaluating Models ({balancing_method})...\")\n",
        "    for name, model in models.items():\n",
        "        model.fit(X_train, y_train)\n",
        "        y_pred = model.predict(X_test)\n",
        "        print(f\"\\n{name} ({balancing_method})\")\n",
        "        print(f\"Accuracy: {accuracy_score(y_test, y_pred):.4f}\")\n",
        "        print(classification_report(y_test, y_pred))\n",
        "\n",
        "train_evaluate(models, X_train, y_train, X_test, y_test, \"No Balancing\")\n",
        "train_evaluate(models, X_train_smote, y_train_smote, X_test, y_test, \"SMOTE\")\n",
        "\n",
        "# Handling Class Imbalance with Class Weighting\n",
        "weighted_models = {\n",
        "    \"Logistic Regression\": LogisticRegression(class_weight=\"balanced\"),\n",
        "    \"Support Vector Machine\": SVC(class_weight=\"balanced\", probability=True),\n",
        "    \"Random Forest\": RandomForestClassifier(class_weight=\"balanced\"),\n",
        "    \"XGBoost\": XGBClassifier(scale_pos_weight=class_weights[1] / class_weights[0])\n",
        "}\n",
        "\n",
        "print(\"\\nEvaluating Models with Class Weighting...\")\n",
        "for name, model in weighted_models.items():\n",
        "    model.fit(X_train, y_train)\n",
        "    y_pred = model.predict(X_test)\n",
        "    print(f\"\\n{name} (Class Weighting)\")\n",
        "    print(f\"Accuracy: {accuracy_score(y_test, y_pred):.4f}\")\n",
        "    print(classification_report(y_test, y_pred))"
      ]
    },
    {
      "cell_type": "markdown",
      "source": [
        "**Comparing Class Weighting vs. SMOTE**"
      ],
      "metadata": {
        "id": "FgS7Y3Fi3anI"
      }
    },
    {
      "cell_type": "code",
      "execution_count": 16,
      "metadata": {
        "colab": {
          "base_uri": "https://localhost:8080/",
          "height": 452
        },
        "id": "GlArf2CwEGVA",
        "outputId": "2eb6ab72-ef7e-470d-c043-5e8b2c295664"
      },
      "outputs": [
        {
          "output_type": "display_data",
          "data": {
            "text/plain": [
              "<Figure size 640x480 with 1 Axes>"
            ],
            "image/png": "[encoded data removed]"
          },
          "metadata": {}
        }
      ],
      "source": [
        "metrics = {\n",
        "    \"SMOTE\": {'accuracy': 0.73, 'precision': 0.72, 'recall': 0.65, 'f1-score': 0.67},\n",
        "    \"Class Weight\": {'accuracy': 0.76, 'precision': 0.75, 'recall': 0.70, 'f1-score': 0.72}\n",
        "}\n",
        "metrics_df = pd.DataFrame.from_dict(metrics, orient='index')\n",
        "metrics_df.plot(kind='bar', rot=0, cmap='viridis', edgecolor='black')\n",
        "plt.title('Comparison of SMOTE vs. Class Weighting')\n",
        "plt.ylabel('Score')\n",
        "plt.ylim(0, 1)\n",
        "plt.show()"
      ]
    },
    {
      "cell_type": "markdown",
      "source": [
        "**Confusion Matrix for Best Model (XGBoost)**"
      ],
      "metadata": {
        "id": "tGnnlCL73oUD"
      }
    },
    {
      "cell_type": "code",
      "execution_count": 13,
      "metadata": {
        "colab": {
          "base_uri": "https://localhost:8080/",
          "height": 472
        },
        "id": "RtLOrjbwE7IF",
        "outputId": "27f4a4af-2195-48c8-a09b-8b601f0e01c0"
      },
      "outputs": [
        {
          "output_type": "display_data",
          "data": {
            "text/plain": [
              "<Figure size 640x480 with 2 Axes>"
            ],
            "image/png": "[encoded data removed]"
          },
          "metadata": {}
        }
      ],
      "source": [
        "best_model = XGBClassifier()\n",
        "best_model.fit(X_train, y_train)\n",
        "y_pred_best = best_model.predict(X_test)\n",
        "cm = confusion_matrix(y_test, y_pred_best)\n",
        "sns.heatmap(cm, annot=True, fmt='d', cmap='Blues', xticklabels=['NOT', 'OFF'], yticklabels=['NOT', 'OFF'])\n",
        "plt.title('Confusion Matrix - XGBoost')\n",
        "plt.xlabel('Predicted')\n",
        "plt.ylabel('True')\n",
        "plt.show()"
      ]
    },
    {
      "cell_type": "markdown",
      "source": [
        "**ROC & Precision-Recall Curves**"
      ],
      "metadata": {
        "id": "mh9BKa6Y33Mo"
      }
    },
    {
      "cell_type": "code",
      "execution_count": 17,
      "metadata": {
        "colab": {
          "base_uri": "https://localhost:8080/",
          "height": 487
        },
        "id": "f_Q4OVUHLWPE",
        "outputId": "0cac8532-69fa-4b2e-cafe-7a6bfb364706"
      },
      "outputs": [
        {
          "output_type": "display_data",
          "data": {
            "text/plain": [
              "<Figure size 1200x500 with 2 Axes>"
            ],
            "image/png": "[encoded data removed]"
          },
          "metadata": {}
        }
      ],
      "source": [
        "def plot_roc_pr_curves(model, X_test, y_test, model_name):\n",
        "    y_prob = model.predict_proba(X_test)[:, 1]\n",
        "    fpr, tpr, _ = roc_curve(y_test, y_prob)\n",
        "    precision, recall, _ = precision_recall_curve(y_test, y_prob)\n",
        "\n",
        "    plt.figure(figsize=(12, 5))\n",
        "    plt.subplot(1, 2, 1)\n",
        "    plt.plot(fpr, tpr, label=f'{model_name} (AUC = {roc_auc_score(y_test, y_prob):.2f}')\n",
        "    plt.plot([0, 1], [0, 1], linestyle='--')\n",
        "    plt.xlabel('False Positive Rate')\n",
        "    plt.ylabel('True Positive Rate')\n",
        "    plt.title('ROC Curve')\n",
        "    plt.legend()\n",
        "\n",
        "    plt.subplot(1, 2, 2)\n",
        "    plt.plot(recall, precision, label=f'{model_name}')\n",
        "    plt.xlabel('Recall')\n",
        "    plt.ylabel('Precision')\n",
        "    plt.title('Precision-Recall Curve')\n",
        "    plt.legend()\n",
        "    plt.show()\n",
        "\n",
        "plot_roc_pr_curves(best_model, X_test, y_test, \"XGBoost\")"
      ]
    }
  ],
  "metadata": {
    "colab": {
      "provenance": []
    },
    "kernelspec": {
      "display_name": "Python 3",
      "name": "python3"
    },
    "language_info": {
      "name": "python"
    }
  },
  "nbformat": 4,
  "nbformat_minor": 0
}